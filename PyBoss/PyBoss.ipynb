{
 "cells": [
  {
   "cell_type": "code",
   "execution_count": null,
   "metadata": {},
   "outputs": [],
   "source": [
    "In summary, the required conversions are as follows:\n",
    "\n",
    "  * The `Name` column should be split into separate `First Name` and `Last Name` columns.\n",
    "\n",
    "  * The `DOB` data should be re-written into `MM/DD/YYYY` format.\n",
    "\n",
    "  * The `SSN` data should be re-written such that the first five numbers are hidden from view.\n",
    "\n",
    "  * The `State` data should be re-written as simple two-letter abbreviations.\n",
    "\n",
    "* Special Hint: You may find this link to be helpful—[Python Dictionary for State Abbreviations](https://gist.github.com/afhaque/29f0f4f37463c447770517a6c17d08f5).\n"
   ]
  },
  {
   "cell_type": "code",
   "execution_count": 10,
   "metadata": {},
   "outputs": [],
   "source": [
    "# dependencies\n",
    "import os\n",
    "import csv\n",
    "from datetime import datetime"
   ]
  },
  {
   "cell_type": "code",
   "execution_count": 18,
   "metadata": {},
   "outputs": [],
   "source": [
    "# define variables\n",
    "\n",
    "first_name = \"\"\n",
    "last_name = \"\"\n",
    "DOB = int\n",
    "SSN = int"
   ]
  },
  {
   "cell_type": "code",
   "execution_count": 21,
   "metadata": {},
   "outputs": [],
   "source": [
    "# Define filepath for reading and writing\n",
    "employeeCSV = os.path.join('employee_data1.csv')\n"
   ]
  },
  {
   "cell_type": "code",
   "execution_count": 22,
   "metadata": {},
   "outputs": [
    {
     "name": "stdout",
     "output_type": "stream",
     "text": [
      "header: ['First Name', 'Last Name', 'SSN', 'DOB', 'State']\n"
     ]
    }
   ],
   "source": [
    "# Read the file\n",
    "with open(employeeCSV, 'r', newline='') as csvfile:\n",
    "\n",
    "    # Initialize csv.reader\n",
    "     # Split the data on commas\n",
    "\n",
    "    csvreader = csv.reader(csvfile, delimiter=',')\n",
    "    header = next(csvreader)\n",
    "    # for testing\n",
    "    print(f\"header: {header}\") \n",
    "   "
   ]
  },
  {
   "cell_type": "code",
   "execution_count": null,
   "metadata": {},
   "outputs": [],
   "source": [
    "# Write the first row (column headers)\n",
    "    csvwriter.writerow(['First Name', 'Last Name', 'SSN', 'DOB', 'State'])\n",
    "   "
   ]
  },
  {
   "cell_type": "code",
   "execution_count": null,
   "metadata": {},
   "outputs": [],
   "source": [
    "# Manipulate data\n",
    "# **Find function for doing this"
   ]
  },
  {
   "cell_type": "code",
   "execution_count": null,
   "metadata": {},
   "outputs": [],
   "source": []
  },
  {
   "cell_type": "code",
   "execution_count": null,
   "metadata": {},
   "outputs": [],
   "source": []
  },
  {
   "cell_type": "code",
   "execution_count": null,
   "metadata": {},
   "outputs": [],
   "source": []
  },
  {
   "cell_type": "code",
   "execution_count": null,
   "metadata": {},
   "outputs": [],
   "source": []
  }
 ],
 "metadata": {
  "kernelspec": {
   "display_name": "Python 3",
   "language": "python",
   "name": "python3"
  },
  "language_info": {
   "codemirror_mode": {
    "name": "ipython",
    "version": 3
   },
   "file_extension": ".py",
   "mimetype": "text/x-python",
   "name": "python",
   "nbconvert_exporter": "python",
   "pygments_lexer": "ipython3",
   "version": "3.6.4"
  }
 },
 "nbformat": 4,
 "nbformat_minor": 2
}
