{
 "cells": [
  {
   "cell_type": "code",
   "execution_count": 24,
   "metadata": {},
   "outputs": [],
   "source": [
    "# In summary, the required conversions are as follows:\n",
    "\n",
    "#  * The `Name` column should be split into separate `First Name` and `Last Name` columns.\n",
    "\n",
    "#  * The `DOB` data should be re-written into `MM/DD/YYYY` format.\n",
    "\n",
    "#  * The `SSN` data should be re-written such that the first five numbers are hidden from view.\n",
    "\n",
    "#  * The `State` data should be re-written as simple two-letter abbreviations.\n",
    "\n",
    "# * Special Hint: You may find this link to be helpful—[Python Dictionary for State Abbreviations](https://gist.github.com/afhaque/29f0f4f37463c447770517a6c17d08f5).\n"
   ]
  },
  {
   "cell_type": "code",
   "execution_count": 25,
   "metadata": {},
   "outputs": [],
   "source": [
    "# dependencies\n",
    "import os\n",
    "import csv\n",
    "from datetime import datetime"
   ]
  },
  {
   "cell_type": "code",
   "execution_count": 26,
   "metadata": {},
   "outputs": [],
   "source": [
    "# define variables\n",
    "\n",
    "\n",
    "emp_id = []\n",
    "first_last = []\n",
    "DOB = []\n",
    "SSN = []\n",
    "State = []"
   ]
  },
  {
   "cell_type": "code",
   "execution_count": 27,
   "metadata": {},
   "outputs": [],
   "source": [
    "# States Dictionary for Python\n",
    "\n",
    "us_state_abbrev = {\n",
    "    'Alabama': 'AL',\n",
    "    'Alaska': 'AK',\n",
    "    'Arizona': 'AZ',\n",
    "    'Arkansas': 'AR',\n",
    "    'California': 'CA',\n",
    "    'Colorado': 'CO',\n",
    "    'Connecticut': 'CT',\n",
    "    'Delaware': 'DE',\n",
    "    'Florida': 'FL',\n",
    "    'Georgia': 'GA',\n",
    "    'Hawaii': 'HI',\n",
    "    'Idaho': 'ID',\n",
    "    'Illinois': 'IL',\n",
    "    'Indiana': 'IN',\n",
    "    'Iowa': 'IA',\n",
    "    'Kansas': 'KS',\n",
    "    'Kentucky': 'KY',\n",
    "    'Louisiana': 'LA',\n",
    "    'Maine': 'ME',\n",
    "    'Maryland': 'MD',\n",
    "    'Massachusetts': 'MA',\n",
    "    'Michigan': 'MI',\n",
    "    'Minnesota': 'MN',\n",
    "    'Mississippi': 'MS',\n",
    "    'Missouri': 'MO',\n",
    "    'Montana': 'MT',\n",
    "    'Nebraska': 'NE',\n",
    "    'Nevada': 'NV',\n",
    "    'New Hampshire': 'NH',\n",
    "    'New Jersey': 'NJ',\n",
    "    'New Mexico': 'NM',\n",
    "    'New York': 'NY',\n",
    "    'North Carolina': 'NC',\n",
    "    'North Dakota': 'ND',\n",
    "    'Ohio': 'OH',\n",
    "    'Oklahoma': 'OK',\n",
    "    'Oregon': 'OR',\n",
    "    'Pennsylvania': 'PA',\n",
    "    'Rhode Island': 'RI',\n",
    "    'South Carolina': 'SC',\n",
    "    'South Dakota': 'SD',\n",
    "    'Tennessee': 'TN',\n",
    "    'Texas': 'TX',\n",
    "    'Utah': 'UT',\n",
    "    'Vermont': 'VT',\n",
    "    'Virginia': 'VA',\n",
    "    'Washington': 'WA',\n",
    "    'West Virginia': 'WV',\n",
    "    'Wisconsin': 'WI',\n",
    "    'Wyoming': 'WY',\n",
    "}"
   ]
  },
  {
   "cell_type": "code",
   "execution_count": 28,
   "metadata": {},
   "outputs": [],
   "source": [
    "# Define filepath for reading and writing\n",
    "\n",
    "employeeCSV = os.path.join('employee_data1.csv')\n",
    "employeeresults = os.path.join('Employee_Records_1.txt')\n"
   ]
  },
  {
   "cell_type": "code",
   "execution_count": 29,
   "metadata": {},
   "outputs": [
    {
     "name": "stdout",
     "output_type": "stream",
     "text": [
      "Erica,Hines\n"
     ]
    }
   ],
   "source": [
    "# Read the file\n",
    "with open(employeeCSV, newline='') as csvfile:\n",
    "\n",
    "    # Initialize csv.reader\n",
    "    # Split the data on commas\n",
    "\n",
    "    csvreader = csv.reader(csvfile, delimiter=',')\n",
    "    header = next(csvreader)\n",
    "\n",
    "    \n",
    "    for row in csvreader:\n",
    "        \n",
    "        # or drop each column into their own lists, manipulate, zip and present results\n",
    "        emp_id.append(row[0])\n",
    "        \n",
    "        # read name and split\n",
    "        name = row[1].split(\" \")\n",
    "        # write to lists, first_name and last_name\n",
    "        #first_name.append(name[0])\n",
    "        #last_name.append(name[1])\n",
    "\n",
    "        # or write to one list, first_last with comma\n",
    "        first_last.append(str(name[0])+ \",\" + str(name[1]))\n",
    "\n",
    "        # read DOB and change from YYYY-MM-DD to MM/DD/YYYY\n",
    "        dobread = row[2]\n",
    "        \n",
    "        # *Changed date using script found on stack overflow and in homework generator*\n",
    "        date_change = datetime.strptime(dobread, '%Y-%m-%d')\n",
    "        DOB.append(date_change.strftime('%m/%d/%Y'))\n",
    "\n",
    "        # read SSN and hide first 5 numbers ***-**-1234\n",
    "        ssnread = row[3].split(\"-\")\n",
    "        SSN.append(f'***-**-{ssnread[2]}')\n",
    "\n",
    "        # read state and abbreviate using dictionary\n",
    "        stateread = row[4]\n",
    "        State.append(us_state_abbrev[stateread])       \n",
    "\n",
    "\n",
    "    \n",
    "    print(first_last[5])\n"
   ]
  },
  {
   "cell_type": "code",
   "execution_count": 30,
   "metadata": {},
   "outputs": [],
   "source": [
    "# Zip up\n",
    "employees = zip(emp_id, first_last, DOB, SSN, State)\n"
   ]
  },
  {
   "cell_type": "code",
   "execution_count": 31,
   "metadata": {},
   "outputs": [],
   "source": [
    "# Write the first row (column headers)\n",
    "\n",
    "with open(employeeresults, 'w', newline ='') as csvfile:\n",
    "    \n",
    "     # Initialize csv.writer\n",
    "    csvwriter = csv.writer(csvfile, delimiter=',')\n",
    "\n",
    "    # Write the first row (column headers)\n",
    "    csvwriter.writerow(['Emp ID', 'First Name', 'Last Name', 'SSN', 'DOB', 'State'])\n",
    "\n",
    "    # Write the rest\n",
    "    for employee in employees:\n",
    "      csvwriter.writerow(employee)\n",
    "      "
   ]
  },
  {
   "cell_type": "code",
   "execution_count": null,
   "metadata": {},
   "outputs": [],
   "source": []
  },
  {
   "cell_type": "code",
   "execution_count": null,
   "metadata": {},
   "outputs": [],
   "source": []
  },
  {
   "cell_type": "code",
   "execution_count": null,
   "metadata": {},
   "outputs": [],
   "source": []
  },
  {
   "cell_type": "code",
   "execution_count": null,
   "metadata": {},
   "outputs": [],
   "source": []
  }
 ],
 "metadata": {
  "kernelspec": {
   "display_name": "Python 3",
   "language": "python",
   "name": "python3"
  },
  "language_info": {
   "codemirror_mode": {
    "name": "ipython",
    "version": 3
   },
   "file_extension": ".py",
   "mimetype": "text/x-python",
   "name": "python",
   "nbconvert_exporter": "python",
   "pygments_lexer": "ipython3",
   "version": "3.6.4"
  }
 },
 "nbformat": 4,
 "nbformat_minor": 2
}
