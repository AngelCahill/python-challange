{
 "cells": [
  {
   "cell_type": "code",
   "execution_count": 49,
   "metadata": {},
   "outputs": [],
   "source": [
    "import os\n",
    "import csv"
   ]
  },
  {
   "cell_type": "code",
   "execution_count": 50,
   "metadata": {},
   "outputs": [],
   "source": [
    "# * The average change in revenue between months over the entire period\n",
    "def average(numbers):\n",
    "    length = len(numbers)\n",
    "    total = 0.0\n",
    "    for number in numbers:\n",
    "        total += number\n",
    "    return total / length\n",
    "\n"
   ]
  },
  {
   "cell_type": "code",
   "execution_count": 74,
   "metadata": {},
   "outputs": [],
   "source": [
    "# Set path for file\n",
    "budgetCSV = os.path.join('budget_data_1.csv')\n",
    "budgetoutput = os.path.join('financial_analysis_report_1.txt')"
   ]
  },
  {
   "cell_type": "code",
   "execution_count": 75,
   "metadata": {},
   "outputs": [
    {
     "name": "stdout",
     "output_type": "stream",
     "text": [
      "header: ['Date', 'Revenue']\n",
      "41\n",
      "18971412\n",
      "[1154293, 885773, -448704, 563679, 555394, 631974, 957395, 1104047, 693464, 454932, 727272, 125016, 339251, 78523, 977084, 1158718, 332681, -341227, 173826, 742611, 1189806, 607363, -1172384, 587993, 295198, -300390, 468995, 698452, 967828, -454873, 375723, 1140526, 83836, 413189, 551363, 1195111, 657081, 66659, 803301, -953301, 883934]\n",
      "['Oct-12', 'Nov-12', 'Dec-12', 'Jan-13', 'Feb-13', 'Mar-13', 'Apr-13', 'May-13', 'Jun-13', 'Jul-13', 'Aug-13', 'Sep-13', 'Oct-13', 'Nov-13', 'Dec-13', 'Jan-14', 'Feb-14', 'Mar-14', 'Apr-14', 'May-14', 'Jun-14', 'Jul-14', 'Aug-14', 'Sep-14', 'Oct-14', 'Nov-14', 'Dec-14', 'Jan-15', 'Feb-15', 'Mar-15', 'Apr-15', 'May-15', 'Jun-15', 'Jul-15', 'Aug-15', 'Sep-15', 'Oct-15', 'Nov-15', 'Dec-15', 'Jan-16', 'Feb-16']\n"
     ]
    }
   ],
   "source": [
    "# Read in the csv file\n",
    "#  * The total number of months included in the dataset\n",
    "\n",
    "totalMonths = 0\n",
    "totalrevenue = 0\n",
    "monthly_average = []\n",
    "date = []\n",
    "\n",
    "with open(budgetCSV, newline = '') as csvfile:\n",
    "\n",
    "    # Split the data on commas\n",
    "    csvreader = csv.reader(csvfile, delimiter=',')\n",
    "    header = next(csvreader)\n",
    "    print(f\"header: {header}\")\n",
    "    for row in csvreader:\n",
    "        totalMonths = totalMonths + 1\n",
    "        \n",
    "        # total Revenue column   \n",
    "        totalrevenue += int(row[1])\n",
    "        \n",
    "        monthly_average.append(int(row[1]))\n",
    "        date.append(row[0])\n",
    "\n",
    "    print(totalMonths)\n",
    "    print(totalrevenue)\n",
    "    print(monthly_average)\n",
    "    print(date)\n",
    "    \n",
    "#    print(csvreader)\n",
    "#    for row in csvreader:\n",
    "#        print(row)\n",
    " "
   ]
  },
  {
   "cell_type": "code",
   "execution_count": 76,
   "metadata": {},
   "outputs": [
    {
     "name": "stdout",
     "output_type": "stream",
     "text": [
      "462717.3658536585\n"
     ]
    }
   ],
   "source": [
    "# call the function for average\n",
    "\n",
    "print(average(monthly_average))"
   ]
  },
  {
   "cell_type": "code",
   "execution_count": 77,
   "metadata": {},
   "outputs": [
    {
     "name": "stdout",
     "output_type": "stream",
     "text": [
      "1195111\n",
      "35\n"
     ]
    }
   ],
   "source": [
    "# The greatest increase in revenue (date and amount) over the entire period\n",
    "max= 0\n",
    "for increase in monthly_average:\n",
    "    if increase > max:\n",
    "        max= increase\n",
    "print(max)\n",
    "\n",
    "print(monthly_average.index(max))"
   ]
  },
  {
   "cell_type": "code",
   "execution_count": 78,
   "metadata": {},
   "outputs": [
    {
     "name": "stdout",
     "output_type": "stream",
     "text": [
      "-1172384\n",
      "22\n"
     ]
    }
   ],
   "source": [
    "# * The greatest decrease in revenue (date and amount) over the entire period\n",
    "min= 0\n",
    "for decrease in monthly_average:\n",
    "    if decrease < min:\n",
    "        min= decrease\n",
    "print(min)\n",
    "\n",
    "print(monthly_average.index(min))"
   ]
  },
  {
   "cell_type": "code",
   "execution_count": 79,
   "metadata": {},
   "outputs": [
    {
     "name": "stdout",
     "output_type": "stream",
     "text": [
      " Financial Analysis\n",
      "-------------------------------------------------\n",
      "Total Months: 41\n",
      "Total Revenue: $18971412\n",
      "Average Revenue Change: $462717\n",
      "Greatest increase in revenue: Sep-15 $1195111\n",
      "Greatest decrease in revenue: Aug-14 $-1172384\n"
     ]
    }
   ],
   "source": [
    "# Financial Analysis report\n",
    "print (\" Financial Analysis\")\n",
    "print (\"-------------------------------------------------\")\n",
    "\n",
    "print(f\"Total Months: {totalMonths}\" )\n",
    "print(f\"Total Revenue: ${int(totalrevenue)}\")\n",
    "print(f\"Average Revenue Change: ${int(average(monthly_average))}\")\n",
    "print(f\"Greatest increase in revenue: {date[int(monthly_average.index(max))]} ${int(max)}\")\n",
    "print(f\"Greatest decrease in revenue: {date[int(monthly_average.index(min))]} ${int(min)}\")"
   ]
  },
  {
   "cell_type": "code",
   "execution_count": 84,
   "metadata": {},
   "outputs": [],
   "source": [
    "# Output to text tile\n",
    "with open(budgetoutput, 'w', newline ='') as textwriter:\n",
    "    textwriter.write(\"Financial Analysis\\n\")\n",
    "    textwriter.write(\"-------------------------------------------------\\n\")\n",
    "    \n",
    "    textwriter.write(f\"Total Months: {totalMonths}\\n\" )\n",
    "    textwriter.write(f\"Total Revenue: ${int(totalrevenue)}\\n\")\n",
    "    textwriter.write(f\"Average Revenue Change: ${int(average(monthly_average))}\\n\")\n",
    "    textwriter.write(f\"Greatest increase in revenue: {date[int(monthly_average.index(max))]} ${int(max)}\\n\")\n",
    "    textwriter.write(f\"Greatest decrease in revenue: {date[int(monthly_average.index(min))]} ${int(min)}\\n\")\n",
    "    \n",
    "    \n",
    "    "
   ]
  },
  {
   "cell_type": "code",
   "execution_count": null,
   "metadata": {},
   "outputs": [],
   "source": []
  }
 ],
 "metadata": {
  "kernelspec": {
   "display_name": "Python 3",
   "language": "python",
   "name": "python3"
  },
  "language_info": {
   "codemirror_mode": {
    "name": "ipython",
    "version": 3
   },
   "file_extension": ".py",
   "mimetype": "text/x-python",
   "name": "python",
   "nbconvert_exporter": "python",
   "pygments_lexer": "ipython3",
   "version": "3.6.4"
  }
 },
 "nbformat": 4,
 "nbformat_minor": 2
}
