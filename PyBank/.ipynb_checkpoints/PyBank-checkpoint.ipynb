{
 "cells": [
  {
   "cell_type": "code",
   "execution_count": 85,
   "metadata": {},
   "outputs": [],
   "source": [
    "# Dependencies\n",
    "import os\n",
    "import csv"
   ]
  },
  {
   "cell_type": "code",
   "execution_count": null,
   "metadata": {},
   "outputs": [],
   "source": [
    "# Define variables and lists\n",
    "totalMonths = 0\n",
    "totalrevenue = 0\n",
    "monthly_average = []\n",
    "date = []"
   ]
  },
  {
   "cell_type": "code",
   "execution_count": 86,
   "metadata": {},
   "outputs": [],
   "source": [
    "# * The average change in revenue between months over the entire period\n",
    "def average(numbers):\n",
    "    length = len(numbers)\n",
    "    total = 0.0\n",
    "    for number in numbers:\n",
    "        total += number\n",
    "    return total / length\n",
    "\n"
   ]
  },
  {
   "cell_type": "code",
   "execution_count": 96,
   "metadata": {},
   "outputs": [],
   "source": [
    "# Set path for file\n",
    "budgetCSV = os.path.join('budget_data_2.csv')\n",
    "budgetoutput = os.path.join('financial_analysis_report_2.txt')"
   ]
  },
  {
   "cell_type": "code",
   "execution_count": 97,
   "metadata": {},
   "outputs": [],
   "source": [
    "# Read in the csv file\n",
    "#  * The total number of months included in the dataset\n",
    "\n",
    "\n",
    "\n",
    "with open(budgetCSV, newline = '') as csvfile:\n",
    "\n",
    "    # Split the data on commas\n",
    "    csvreader = csv.reader(csvfile, delimiter=',')\n",
    "    header = next(csvreader)\n",
    "    # for testing\n",
    "    #print(f\"header: {header}\") \n",
    "    for row in csvreader:\n",
    "        totalMonths = totalMonths + 1\n",
    "        \n",
    "        # total Revenue column   \n",
    "        totalrevenue += int(row[1])\n",
    "        \n",
    "        monthly_average.append(int(row[1]))\n",
    "        date.append(row[0])\n",
    "    # for testing\n",
    "    #print(totalMonths)\n",
    "    #print(totalrevenue)\n",
    "    #print(monthly_average)\n",
    "    #print(date)"
   ]
  },
  {
   "cell_type": "code",
   "execution_count": 98,
   "metadata": {},
   "outputs": [],
   "source": [
    "# call the function for average\n",
    "# for testing\n",
    "#print(average(monthly_average))"
   ]
  },
  {
   "cell_type": "code",
   "execution_count": 99,
   "metadata": {},
   "outputs": [],
   "source": [
    "# The greatest increase in revenue (date and amount) over the entire period\n",
    "max= 0\n",
    "for increase in monthly_average:\n",
    "    if increase > max:\n",
    "        max= increase\n",
    "\n",
    "# for testing\n",
    "#print(max)\n",
    "#print(monthly_average.index(max))"
   ]
  },
  {
   "cell_type": "code",
   "execution_count": 100,
   "metadata": {},
   "outputs": [],
   "source": [
    "# * The greatest decrease in revenue (date and amount) over the entire period\n",
    "min= 0\n",
    "for decrease in monthly_average:\n",
    "    if decrease < min:\n",
    "        min= decrease\n",
    "# for testing\n",
    "#print(min)\n",
    "#print(monthly_average.index(min))"
   ]
  },
  {
   "cell_type": "code",
   "execution_count": 101,
   "metadata": {},
   "outputs": [
    {
     "name": "stdout",
     "output_type": "stream",
     "text": [
      " Financial Analysis\n",
      "-------------------------------------------------\n",
      "Total Months: 86\n",
      "Total Revenue: $36973911\n",
      "Average Revenue Change: $429929\n",
      "Greatest increase in revenue: Mar-2012 $1141606\n",
      "Greatest decrease in revenue: Sep-2010 $-1063151\n"
     ]
    }
   ],
   "source": [
    "# Financial Analysis report\n",
    "print (\" Financial Analysis\")\n",
    "print (\"-------------------------------------------------\")\n",
    "\n",
    "print(f\"Total Months: {totalMonths}\" )\n",
    "print(f\"Total Revenue: ${int(totalrevenue)}\")\n",
    "print(f\"Average Revenue Change: ${int(average(monthly_average))}\")\n",
    "print(f\"Greatest increase in revenue: {date[int(monthly_average.index(max))]} ${int(max)}\")\n",
    "print(f\"Greatest decrease in revenue: {date[int(monthly_average.index(min))]} ${int(min)}\")"
   ]
  },
  {
   "cell_type": "code",
   "execution_count": 102,
   "metadata": {},
   "outputs": [],
   "source": [
    "# Output to text tile\n",
    "with open(budgetoutput, 'w', newline ='') as textwriter:\n",
    "    textwriter.write(\"Financial Analysis\\n\")\n",
    "    textwriter.write(\"-------------------------------------------------\\n\")\n",
    "    \n",
    "    textwriter.write(f\"Total Months: {totalMonths}\\n\" )\n",
    "    textwriter.write(f\"Total Revenue: ${int(totalrevenue)}\\n\")\n",
    "    textwriter.write(f\"Average Revenue Change: ${int(average(monthly_average))}\\n\")\n",
    "    textwriter.write(f\"Greatest increase in revenue: {date[int(monthly_average.index(max))]} ${int(max)}\\n\")\n",
    "    textwriter.write(f\"Greatest decrease in revenue: {date[int(monthly_average.index(min))]} ${int(min)}\\n\")\n",
    "    \n",
    "    \n",
    "    "
   ]
  },
  {
   "cell_type": "code",
   "execution_count": null,
   "metadata": {},
   "outputs": [],
   "source": []
  }
 ],
 "metadata": {
  "kernelspec": {
   "display_name": "Python 3",
   "language": "python",
   "name": "python3"
  },
  "language_info": {
   "codemirror_mode": {
    "name": "ipython",
    "version": 3
   },
   "file_extension": ".py",
   "mimetype": "text/x-python",
   "name": "python",
   "nbconvert_exporter": "python",
   "pygments_lexer": "ipython3",
   "version": "3.6.4"
  }
 },
 "nbformat": 4,
 "nbformat_minor": 2
}
